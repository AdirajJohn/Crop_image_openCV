{
 "cells": [
  {
   "cell_type": "markdown",
   "metadata": {},
   "source": [
    "### Cropping Image using cGANs Model"
   ]
  },
  {
   "cell_type": "markdown",
   "metadata": {},
   "source": [
    "### Import Necessary Library"
   ]
  },
  {
   "cell_type": "code",
   "execution_count": 12,
   "metadata": {},
   "outputs": [],
   "source": [
    "import pandas as pd\n",
    "import numpy as np\n",
    "import cv2\n",
    "import os\n",
    "from sklearn.model_selection import train_test_split"
   ]
  },
  {
   "cell_type": "markdown",
   "metadata": {},
   "source": [
    "### Load the dataset"
   ]
  },
  {
   "cell_type": "code",
   "execution_count": 19,
   "metadata": {},
   "outputs": [
    {
     "name": "stdout",
     "output_type": "stream",
     "text": [
      "Shape of images array: (99, 600, 973, 3)\n"
     ]
    },
    {
     "name": "stderr",
     "output_type": "stream",
     "text": [
      "C:\\Users\\plato\\AppData\\Local\\Temp\\ipykernel_23244\\651970078.py:22: VisibleDeprecationWarning: Creating an ndarray from ragged nested sequences (which is a list-or-tuple of lists-or-tuples-or ndarrays with different lengths or shapes) is deprecated. If you meant to do this, you must specify 'dtype=object' when creating the ndarray.\n",
      "  cropped_img= np.array(cropped_img)\n"
     ]
    }
   ],
   "source": [
    "# Initialize empty lists to store images and labels \n",
    "Original_img=[]\n",
    "cropped_img=[]\n",
    "#Directory containing your image files\n",
    "OG_dir=\"D:/repository/Crop_image_openCV/Original\"\n",
    "croped_dir=\"D:/repository/Crop_image_openCV/Cropped\"\n",
    "#List of all the file in the folder\n",
    "OG_list=os.listdir(OG_dir)\n",
    "croped_list=os.listdir(croped_dir)\n",
    "OG=np.array(OG_list)\n",
    "croped=np.array(croped_list)\n",
    "#load all the image\n",
    "for i in range(len(OG_list)):\n",
    "    #Load the image\n",
    "    image=cv2.imread(OG_dir+\"/\"+OG_list[i])\n",
    "    Original_img.append(image)\n",
    "    label_img=cv2.imread(croped_dir+\"/\"+croped_list[i])\n",
    "    cropped_img.append(label_img)\n",
    "\n",
    "# Convert the lists to NumPy arrays\n",
    "Original_img=np.array(Original_img)\n",
    "cropped_img= np.array(cropped_img)\n",
    "\n",
    "# Check the shape of the loaded images array\n",
    "print(\"Shape of images array:\", Original_img.shape)\n",
    "\n",
    "\n",
    "\n",
    "\n",
    "\n",
    "\n",
    "\n",
    "\n",
    "#Image pair of the croped and the original image\n",
    "image_pairs=[()]\n"
   ]
  },
  {
   "cell_type": "code",
   "execution_count": null,
   "metadata": {},
   "outputs": [],
   "source": []
  },
  {
   "cell_type": "code",
   "execution_count": null,
   "metadata": {},
   "outputs": [],
   "source": []
  }
 ],
 "metadata": {
  "kernelspec": {
   "display_name": "Python 3",
   "language": "python",
   "name": "python3"
  },
  "language_info": {
   "codemirror_mode": {
    "name": "ipython",
    "version": 3
   },
   "file_extension": ".py",
   "mimetype": "text/x-python",
   "name": "python",
   "nbconvert_exporter": "python",
   "pygments_lexer": "ipython3",
   "version": "3.10.10"
  },
  "orig_nbformat": 4
 },
 "nbformat": 4,
 "nbformat_minor": 2
}
